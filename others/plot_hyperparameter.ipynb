{
 "cells": [
  {
   "cell_type": "code",
   "execution_count": 4,
   "metadata": {},
   "outputs": [],
   "source": [
    "import pandas as pd\n",
    "import seaborn as sns\n",
    "from matplotlib import pyplot as plt\n",
    "#sns.set(sns.color_palette(\"hls\", 20))\n",
    "import os"
   ]
  },
  {
   "cell_type": "code",
   "execution_count": 9,
   "metadata": {},
   "outputs": [],
   "source": [
    "files = [os.path.join('hyperparameter_tunning', i) for i in os.listdir('hyperparameter_tunning/')]"
   ]
  },
  {
   "cell_type": "code",
   "execution_count": 10,
   "metadata": {},
   "outputs": [],
   "source": [
    "read = lambda x: (x.split('SGD_')[-1].rstrip('.csv'), pd.read_csv(x))\n",
    "histories = dict(map(read, files))"
   ]
  },
  {
   "cell_type": "code",
   "execution_count": null,
   "metadata": {},
   "outputs": [],
   "source": [
    "fig, axes = plt.subplots(14, 4, dpi=120, figsize=(16, 56))\n",
    "axes = axes.flatten()\n",
    "for index, key in enumerate(histories.keys()):\n",
    "    axes[index].plot(histories[key]['loss'], label='training_loss')\n",
    "    axes[index].plot(histories[key]['val_loss'], label='testing_loss')\n",
    "    axes[index].set_title(key)\n",
    "    axes[index].legend()\n",
    "    axes[index].set_ylim(500, 2000)"
   ]
  },
  {
   "cell_type": "code",
   "execution_count": null,
   "metadata": {},
   "outputs": [],
   "source": []
  }
 ],
 "metadata": {
  "kernelspec": {
   "display_name": "Python 3",
   "language": "python",
   "name": "python3"
  },
  "language_info": {
   "codemirror_mode": {
    "name": "ipython",
    "version": 3
   },
   "file_extension": ".py",
   "mimetype": "text/x-python",
   "name": "python",
   "nbconvert_exporter": "python",
   "pygments_lexer": "ipython3",
   "version": "3.8.2"
  },
  "widgets": {
   "application/vnd.jupyter.widget-state+json": {
    "state": {},
    "version_major": 2,
    "version_minor": 0
   }
  }
 },
 "nbformat": 4,
 "nbformat_minor": 4
}
