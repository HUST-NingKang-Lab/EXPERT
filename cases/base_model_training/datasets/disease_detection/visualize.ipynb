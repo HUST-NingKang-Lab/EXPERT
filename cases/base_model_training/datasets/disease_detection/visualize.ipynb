{
 "cells": [
  {
   "cell_type": "code",
   "execution_count": 1,
   "metadata": {},
   "outputs": [],
   "source": [
    "import pandas as pd\n",
    "from matplotlib import pyplot as plt\n",
    "import numpy as np\n",
    "import seaborn as sns\n",
    "from tqdm import tqdm\n",
    "from collections import OrderedDict"
   ]
  },
  {
   "cell_type": "code",
   "execution_count": 2,
   "metadata": {},
   "outputs": [],
   "source": [
    "sns.set(rc={'figure.figsize':(11.7,8.27)})"
   ]
  },
  {
   "cell_type": "code",
   "execution_count": 3,
   "metadata": {},
   "outputs": [],
   "source": [
    "meta = pd.read_csv('meta_all_disease_jsd.tsv.gz', sep='\\t', index_col=0)\n",
    "mat = pd.read_csv('jsd_matrix_all_disease.tsv.gz', sep='\\t', index_col=0).astype(np.float32)"
   ]
  },
  {
   "cell_type": "code",
   "execution_count": 4,
   "metadata": {},
   "outputs": [],
   "source": [
    "meta.loc[meta['phenotype'].isin({'Health', 'Healthy', 'healthy'}), 'phenotype'] = 'Health'\n",
    "sorted_idx = meta.sort_values(by='phenotype').index.to_series()\n",
    "SampleID_Env = meta['phenotype'].to_dict()"
   ]
  },
  {
   "cell_type": "code",
   "execution_count": 5,
   "metadata": {},
   "outputs": [],
   "source": [
    "mat.columns = mat.columns.to_series().apply(lambda x: SampleID_Env[x]+'_'+x)\n",
    "mat.index = mat.index.to_series().apply(lambda x: SampleID_Env[x]+'_'+x)"
   ]
  },
  {
   "cell_type": "code",
   "execution_count": 6,
   "metadata": {},
   "outputs": [],
   "source": [
    "mat = mat.loc[sorted_idx.apply(lambda x: SampleID_Env[x]+'_'+x), sorted_idx.apply(lambda x: SampleID_Env[x]+'_'+x)]\n",
    "meta = meta.loc[sorted_idx, :]"
   ]
  },
  {
   "cell_type": "code",
   "execution_count": null,
   "metadata": {},
   "outputs": [],
   "source": [
    "fig = plt.figure(figsize=(16, 8), dpi=120)\n",
    "labels = mat.columns.to_series().apply(lambda x: x.split('_')[0])\n",
    "labels_unique = labels.unique()\n",
    "mat_pal = sns.color_palette('Set2', labels_unique.size)\n",
    "cmapper = OrderedDict(zip(labels_unique, mat_pal))\n",
    "colors = labels.map(cmapper)\n",
    "g = sns.clustermap(mat,#.iloc[range(100), range(100)], \n",
    "                   row_cluster=False, col_cluster=False, \n",
    "               row_colors=colors, col_colors=colors, linewidths=0, \n",
    "               xticklabels=False, yticklabels=False, cmap='RdYlGn')\n",
    "for label in labels_unique:\n",
    "    g.ax_col_dendrogram.bar(0, 0, color=cmapper[label], label=label, linewidth=0)\n",
    "g.ax_col_dendrogram.legend(loc=\"upper left\", ncol=2, fontsize=8, bbox_to_anchor=(1.04, 0))\n",
    "g.cax.set_position([.08, .2, .02, .45])\n",
    "'''labels_txt = list(cmapper.keys())\n",
    "counts = labels.value_counts(sort=False)\n",
    "counts = pd.Series([counts[i] for i in labels_txt])\n",
    "pos = counts.cumsum() - counts * 0.5\n",
    "for i in range(len(labels_txt)):\n",
    "    plt.text(2.2, -pos[i]/150, labels_txt[i], va=\"top\", ha=\"right\", fontsize=10, \n",
    "             color=cmapper[labels_txt[i]], fontweight='bold')'''\n",
    "plt.savefig('disease_clustermap.svg', dpi=200, bbox_inches='tight')\n",
    "plt.savefig('disease_clustermap.png', dpi=200, bbox_inches='tight')\n",
    "plt.savefig('disease_clustermap.pdf', dpi=200, bbox_inches='tight')"
   ]
  },
  {
   "cell_type": "code",
   "execution_count": null,
   "metadata": {},
   "outputs": [],
   "source": []
  }
 ],
 "metadata": {
  "kernelspec": {
   "display_name": "Python 3.8.2 64-bit",
   "language": "python",
   "name": "python38264bit558b9a6ee6104e5b8fb3923126031fb9"
  },
  "language_info": {
   "codemirror_mode": {
    "name": "ipython",
    "version": 3
   },
   "file_extension": ".py",
   "mimetype": "text/x-python",
   "name": "python",
   "nbconvert_exporter": "python",
   "pygments_lexer": "ipython3",
   "version": "3.8.2"
  },
  "widgets": {
   "application/vnd.jupyter.widget-state+json": {
    "state": {},
    "version_major": 2,
    "version_minor": 0
   }
  }
 },
 "nbformat": 4,
 "nbformat_minor": 4
}
